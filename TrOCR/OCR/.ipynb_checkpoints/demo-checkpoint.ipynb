{
 "cells": [
  {
   "cell_type": "code",
   "execution_count": 1,
   "id": "d06fb46e-de31-4f5c-8bdb-42375ee10f61",
   "metadata": {},
   "outputs": [],
   "source": [
    "\"\"\"\n",
    "Application to provide benchmark timers for code. \n",
    "Usage: \n",
    "# from my_timer_class import MyTimer\n",
    "from my_timer_func import my_timer\n",
    "import time\n",
    "\n",
    "@MyTimer3(name=\"decorator\")\n",
    "@my_timer\n",
    "\"\"\"\n",
    "\n",
    "import functools\n",
    "import time\n",
    "\n",
    "def my_timer(orig_func):\n",
    "    import time\n",
    "    @functools.wraps(orig_func)\n",
    "    def wrapper_timer(*args, **kwargs):\n",
    "        tic = time.perf_counter()\n",
    "        value = orig_func(*args, **kwargs)\n",
    "        toc = time.perf_counter()\n",
    "        elapsed_time = toc - tic\n",
    "        print(f\"Elapsed time to run {orig_func.__name__}: {elapsed_time:0.4f} seconds\")\n",
    "        return value\n",
    "    return wrapper_timer\n",
    "\n",
    "\n",
    "class MyTimer():\n",
    "    # usage:\n",
    "    #\n",
    "    # from MyTimer import MyTimer\n",
    "    # with MyTimer():\n",
    "    #    func(x,y)\n",
    "\n",
    "    def __init__(self):\n",
    "        self.start = time.time()\n",
    "        self.start_p = time.perf_counter()\n",
    "\n",
    "    def __enter__(self):\n",
    "        return self\n",
    "\n",
    "    def __exit__(self, *args, **kwargs):\n",
    "        end = time.time()\n",
    "        end_p = time.perf_counter()\n",
    "        runtime = end - self.start\n",
    "        runtime_p = end_p - self.start_p\n",
    "        msg = 'The function took {time} seconds to complete'\n",
    "        print(msg.format(time=runtime))\n",
    "        msg_p = 'The function took {time} perf seconds to complete'\n",
    "        print(msg_p.format(time=runtime_p))"
   ]
  },
  {
   "cell_type": "code",
   "execution_count": 2,
   "id": "6dbcd6a8-8e2c-482b-9a81-98b989cd0ac9",
   "metadata": {},
   "outputs": [
    {
     "name": "stderr",
     "output_type": "stream",
     "text": [
      "/opt/venv/lib/python3.12/site-packages/tqdm/auto.py:21: TqdmWarning: IProgress not found. Please update jupyter and ipywidgets. See https://ipywidgets.readthedocs.io/en/stable/user_install.html\n",
      "  from .autonotebook import tqdm as notebook_tqdm\n"
     ]
    }
   ],
   "source": [
    "r\"\"\"\n",
    "conda env remove --name trOCR\n",
    "conda env create --name trOCR --file environment.yml\n",
    "\n",
    "cache folder\n",
    "C:\\Users\\techexpert\\.cache\\huggingface\\hub\n",
    "\n",
    "nvidia-smi for GPU info\n",
    "\n",
    "cd scripts\n",
    "python trOCR.py\n",
    "\"\"\"\n",
    "\n",
    "from PIL import Image \n",
    "import torch\n",
    "from transformers import TrOCRProcessor, VisionEncoderDecoderModel \n",
    "import os\n",
    "import requests\n",
    "\n",
    "\n",
    "@my_timer\n",
    "# https://huggingface.co/microsoft/trocr-base-handwritten\n",
    "def run_trOCR(model_name=\"microsoft/trocr-base-handwritten\", images=\"\"):\n",
    "    \"\"\"\n",
    "    There are 3 main models to choose from, small, base and large. \n",
    "    Some other fine-tuned models: IAM Handwritten, SROIE Receipts\n",
    "    \"\"\"\n",
    "    processor = TrOCRProcessor.from_pretrained(model_name, use_fast = True)\n",
    "    model = VisionEncoderDecoderModel.from_pretrained(model_name)\n",
    "    print(model)\n",
    "\n",
    "    # Check for GPU availability\n",
    "    device = \"cuda\" if torch.cuda.is_available() else \"cpu\"\n",
    "    print(f\"running on {device}\")\n",
    "    model.to(device)  # Move model to GPU\n",
    "    pixel_values = processor(image, return_tensors=\"pt\").pixel_values.to(device)\n",
    "    generated_ids = model.generate(pixel_values, max_new_tokens=1000)\n",
    "    generated_text = processor.batch_decode(generated_ids, skip_special_tokens=True)[0]\n",
    "    print(generated_text)\n"
   ]
  },
  {
   "cell_type": "code",
   "execution_count": 3,
   "id": "ac8a3edb-6847-4f5b-82f1-18cc4e9937ee",
   "metadata": {},
   "outputs": [
    {
     "name": "stderr",
     "output_type": "stream",
     "text": [
      "Some weights of VisionEncoderDecoderModel were not initialized from the model checkpoint at microsoft/trocr-base-handwritten and are newly initialized: ['encoder.pooler.dense.bias', 'encoder.pooler.dense.weight']\n",
      "You should probably TRAIN this model on a down-stream task to be able to use it for predictions and inference.\n"
     ]
    },
    {
     "ename": "AttributeError",
     "evalue": "'VisionEncoderDecoderModel' object has no attribute 'summarize'",
     "output_type": "error",
     "traceback": [
      "\u001b[31m---------------------------------------------------------------------------\u001b[39m",
      "\u001b[31mAttributeError\u001b[39m                            Traceback (most recent call last)",
      "\u001b[36mCell\u001b[39m\u001b[36m \u001b[39m\u001b[32mIn[3]\u001b[39m\u001b[32m, line 5\u001b[39m\n\u001b[32m      3\u001b[39m link_image = \u001b[33m\"\u001b[39m\u001b[33mdatasets/text_recognition_mcocr_data/text_recognition_mcocr_data/mcocr_public_145013aagqw_5.jpg\u001b[39m\u001b[33m\"\u001b[39m\n\u001b[32m      4\u001b[39m image = Image.open(link_image).convert(\u001b[33m\"\u001b[39m\u001b[33mRGB\u001b[39m\u001b[33m\"\u001b[39m)\n\u001b[32m----> \u001b[39m\u001b[32m5\u001b[39m \u001b[43mrun_trOCR\u001b[49m\u001b[43m(\u001b[49m\u001b[43mmodel_id\u001b[49m\u001b[43m,\u001b[49m\u001b[43m \u001b[49m\u001b[43mimage\u001b[49m\u001b[43m)\u001b[49m\n",
      "\u001b[36mCell\u001b[39m\u001b[36m \u001b[39m\u001b[32mIn[1]\u001b[39m\u001b[32m, line 20\u001b[39m, in \u001b[36mmy_timer.<locals>.wrapper_timer\u001b[39m\u001b[34m(*args, **kwargs)\u001b[39m\n\u001b[32m     17\u001b[39m \u001b[38;5;129m@functools\u001b[39m.wraps(orig_func)\n\u001b[32m     18\u001b[39m \u001b[38;5;28;01mdef\u001b[39;00m\u001b[38;5;250m \u001b[39m\u001b[34mwrapper_timer\u001b[39m(*args, **kwargs):\n\u001b[32m     19\u001b[39m     tic = time.perf_counter()\n\u001b[32m---> \u001b[39m\u001b[32m20\u001b[39m     value = \u001b[43morig_func\u001b[49m\u001b[43m(\u001b[49m\u001b[43m*\u001b[49m\u001b[43margs\u001b[49m\u001b[43m,\u001b[49m\u001b[43m \u001b[49m\u001b[43m*\u001b[49m\u001b[43m*\u001b[49m\u001b[43mkwargs\u001b[49m\u001b[43m)\u001b[49m\n\u001b[32m     21\u001b[39m     toc = time.perf_counter()\n\u001b[32m     22\u001b[39m     elapsed_time = toc - tic\n",
      "\u001b[36mCell\u001b[39m\u001b[36m \u001b[39m\u001b[32mIn[2]\u001b[39m\u001b[32m, line 30\u001b[39m, in \u001b[36mrun_trOCR\u001b[39m\u001b[34m(model_name, images)\u001b[39m\n\u001b[32m     28\u001b[39m processor = TrOCRProcessor.from_pretrained(model_name, use_fast = \u001b[38;5;28;01mTrue\u001b[39;00m)\n\u001b[32m     29\u001b[39m model = VisionEncoderDecoderModel.from_pretrained(model_name)\n\u001b[32m---> \u001b[39m\u001b[32m30\u001b[39m \u001b[38;5;28mprint\u001b[39m(\u001b[43mmodel\u001b[49m\u001b[43m.\u001b[49m\u001b[43msummarize\u001b[49m())\n\u001b[32m     32\u001b[39m \u001b[38;5;66;03m# Check for GPU availability\u001b[39;00m\n\u001b[32m     33\u001b[39m device = \u001b[33m\"\u001b[39m\u001b[33mcuda\u001b[39m\u001b[33m\"\u001b[39m \u001b[38;5;28;01mif\u001b[39;00m torch.cuda.is_available() \u001b[38;5;28;01melse\u001b[39;00m \u001b[33m\"\u001b[39m\u001b[33mcpu\u001b[39m\u001b[33m\"\u001b[39m\n",
      "\u001b[36mFile \u001b[39m\u001b[32m/usr/local/lib/python3.12/dist-packages/torch/nn/modules/module.py:1940\u001b[39m, in \u001b[36mModule.__getattr__\u001b[39m\u001b[34m(self, name)\u001b[39m\n\u001b[32m   1938\u001b[39m     \u001b[38;5;28;01mif\u001b[39;00m name \u001b[38;5;129;01min\u001b[39;00m modules:\n\u001b[32m   1939\u001b[39m         \u001b[38;5;28;01mreturn\u001b[39;00m modules[name]\n\u001b[32m-> \u001b[39m\u001b[32m1940\u001b[39m \u001b[38;5;28;01mraise\u001b[39;00m \u001b[38;5;167;01mAttributeError\u001b[39;00m(\n\u001b[32m   1941\u001b[39m     \u001b[33mf\u001b[39m\u001b[33m\"\u001b[39m\u001b[33m'\u001b[39m\u001b[38;5;132;01m{\u001b[39;00m\u001b[38;5;28mtype\u001b[39m(\u001b[38;5;28mself\u001b[39m).\u001b[34m__name__\u001b[39m\u001b[38;5;132;01m}\u001b[39;00m\u001b[33m'\u001b[39m\u001b[33m object has no attribute \u001b[39m\u001b[33m'\u001b[39m\u001b[38;5;132;01m{\u001b[39;00mname\u001b[38;5;132;01m}\u001b[39;00m\u001b[33m'\u001b[39m\u001b[33m\"\u001b[39m\n\u001b[32m   1942\u001b[39m )\n",
      "\u001b[31mAttributeError\u001b[39m: 'VisionEncoderDecoderModel' object has no attribute 'summarize'"
     ]
    }
   ],
   "source": [
    "model_id = \"microsoft/trocr-base-handwritten\" # indus tre, This is a sample of text\n",
    "\n",
    "link_image = \"datasets/text_recognition_mcocr_data/text_recognition_mcocr_data/mcocr_public_145013aagqw_5.jpg\"\n",
    "image = Image.open(link_image).convert(\"RGB\")\n",
    "run_trOCR(model_id, image)"
   ]
  },
  {
   "cell_type": "code",
   "execution_count": null,
   "id": "8a8c835e-2dd6-4382-90b0-a0a34c8e9160",
   "metadata": {},
   "outputs": [],
   "source": []
  }
 ],
 "metadata": {
  "kernelspec": {
   "display_name": "Python 3 (ipykernel)",
   "language": "python",
   "name": "python3"
  },
  "language_info": {
   "codemirror_mode": {
    "name": "ipython",
    "version": 3
   },
   "file_extension": ".py",
   "mimetype": "text/x-python",
   "name": "python",
   "nbconvert_exporter": "python",
   "pygments_lexer": "ipython3",
   "version": "3.12.3"
  }
 },
 "nbformat": 4,
 "nbformat_minor": 5
}
